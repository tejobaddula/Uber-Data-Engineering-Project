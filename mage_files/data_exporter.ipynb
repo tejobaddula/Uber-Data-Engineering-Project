{
 "cells": [
  {
   "cell_type": "code",
   "execution_count": null,
   "id": "46fdf71c",
   "metadata": {},
   "outputs": [],
   "source": [
    "from mage_ai.settings.repo import get_repo_path\n",
    "from mage_ai.io.bigquery import BigQuery\n",
    "from mage_ai.io.config import ConfigFileLoader\n",
    "from pandas import DataFrame\n",
    "from os import path\n",
    "\n",
    "if 'data_exporter' not in globals():\n",
    "    from mage_ai.data_preparation.decorators import data_exporter\n",
    "\n",
    "\n",
    "@data_exporter\n",
    "def export_data_to_big_query(data, **kwargs) -> None:\n",
    "    \"\"\"\n",
    "    Template for exporting data to a BigQuery warehouse.\n",
    "    Specify your configuration settings in 'io_config.yaml'.\n",
    "\n",
    "    Docs: https://docs.mage.ai/design/data-loading#bigquery\n",
    "    \"\"\"\n",
    "    config_path = path.join(get_repo_path(), 'io_config.yaml')\n",
    "    config_profile = 'default'\n",
    "\n",
    "    for key,value in data.items():\n",
    "\n",
    "        table_id = 'uber-data-engineering-398603.uber_de.{}'.format(key)\n",
    "    \n",
    "\n",
    "        BigQuery.with_config(ConfigFileLoader(config_path, config_profile)).export(\n",
    "            DataFrame(value),\n",
    "            table_id,\n",
    "            if_exists='replace',  # Specify resolution policy if table name already exists\n",
    "        )\n"
   ]
  }
 ],
 "metadata": {
  "kernelspec": {
   "display_name": "Python 3 (ipykernel)",
   "language": "python",
   "name": "python3"
  },
  "language_info": {
   "codemirror_mode": {
    "name": "ipython",
    "version": 3
   },
   "file_extension": ".py",
   "mimetype": "text/x-python",
   "name": "python",
   "nbconvert_exporter": "python",
   "pygments_lexer": "ipython3",
   "version": "3.9.13"
  }
 },
 "nbformat": 4,
 "nbformat_minor": 5
}
